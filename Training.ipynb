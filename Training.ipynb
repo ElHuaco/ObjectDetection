{
 "cells": [
  {
   "cell_type": "code",
   "execution_count": 1,
   "metadata": {
    "pycharm": {
     "name": "#%%\n"
    }
   },
   "outputs": [
    {
     "name": "stderr",
     "output_type": "stream",
     "text": [
      "/home/ubuntu/.local/lib/python3.8/site-packages/tqdm/auto.py:22: TqdmWarning: IProgress not found. Please update jupyter and ipywidgets. See https://ipywidgets.readthedocs.io/en/stable/user_install.html\n",
      "  from .autonotebook import tqdm as notebook_tqdm\n"
     ]
    },
    {
     "name": "stdout",
     "output_type": "stream",
     "text": [
      "Training on device cuda.\n"
     ]
    },
    {
     "data": {
      "text/plain": [
       "0"
      ]
     },
     "execution_count": 1,
     "metadata": {},
     "output_type": "execute_result"
    }
   ],
   "source": [
    "import torch\n",
    "import torch.nn as nn\n",
    "import torch.nn.functional as F\n",
    "import torchvision\n",
    "import numpy as np\n",
    "import datetime as dt\n",
    "\n",
    "DATAPATH = './models/'\n",
    "# GPU training\n",
    "DEVICE = (torch.device('cuda') if torch.cuda.is_available() else torch.device('cpu'))\n",
    "#DEVICE = torch.device('cpu')\n",
    "print(f\"Training on device {DEVICE}.\")\n",
    "torch.cuda.memory_allocated()"
   ]
  },
  {
   "cell_type": "code",
   "execution_count": 5,
   "metadata": {
    "pycharm": {
     "name": "#%%\n"
    }
   },
   "outputs": [
    {
     "name": "stdout",
     "output_type": "stream",
     "text": [
      "loading annotations into memory...\n",
      "Done (t=16.68s)\n",
      "creating index...\n",
      "index created!\n",
      "Categories: {18: 0, 17: 1}\n",
      "Dataset size: 5\n",
      "loading annotations into memory...\n",
      "Done (t=16.88s)\n",
      "creating index...\n",
      "index created!\n",
      "Categories: {18: 0, 17: 1}\n",
      "Dataset size: 5\n",
      "Dataset with augmentation size: 10\n"
     ]
    }
   ],
   "source": [
    "from cocoBox import load_coco_dataset\n",
    "\n",
    "BATCH_SIZE = 1\n",
    "IMG_SIZE = 300\n",
    "# Select image categories with which to train SSD\n",
    "categories = (('dog', 'cat', 'bird', 'horse'))\n",
    "train_dataloader, valid_dataloader = load_coco_dataset(batch_size=BATCH_SIZE,\n",
    "                                                       size=5,\n",
    "                                                       dim=IMG_SIZE,\n",
    "                                                       cats=categories,\n",
    "                                                       fetch_type='union')"
   ]
  },
  {
   "cell_type": "code",
   "execution_count": 25,
   "metadata": {
    "pycharm": {
     "name": "#%%\n"
    }
   },
   "outputs": [],
   "source": [
    "def training_loop(n_epochs, optimizer, model, loss_fn, train_loader, valid_loader, max_patience=float('Inf')):\n",
    "    best_valid_loss = float('Inf')\n",
    "    patience = max_patience\n",
    "    print('{} starting training'.format(dt.datetime.now()))\n",
    "    for epoch in range(1, n_epochs + 1):\n",
    "        train_loss = 0.0\n",
    "        for images, targets in train_loader:\n",
    "            images = torch.cat(list(map(lambda x: x.unsqueeze(0), images))).to(device=DEVICE)\n",
    "            boxes = tuple(map(lambda x: torch.tensor(x['boxes']).to(device=DEVICE), targets))\n",
    "            labels = tuple(map(lambda x: torch.tensor(x['labels']).to(device=DEVICE), targets))\n",
    "            coords, conf = model(images)\n",
    "            loss = loss_fn(coords, conf, boxes, labels)\n",
    "            optimizer.zero_grad()\n",
    "            loss.backward()\n",
    "            optimizer.step()\n",
    "            train_loss += loss.item()\n",
    "        torch.cuda.empty_cache()\n",
    "        # Validation\n",
    "        with torch.no_grad():\n",
    "            valid_loss = 0.0\n",
    "            for images, targets in train_loader:\n",
    "                images = torch.cat(list(map(lambda x: x.unsqueeze(0), images))).to(device=DEVICE)\n",
    "                boxes = tuple(map(lambda x: torch.tensor(x['boxes']).to(device=DEVICE), targets))\n",
    "                labels = tuple(map(lambda x: torch.tensor(x['labels']).to(device=DEVICE), targets))\n",
    "                coords, conf = model(images)\n",
    "                loss = loss_fn(coords, conf, boxes, labels)\n",
    "                valid_loss += loss.item()\n",
    "        torch.cuda.empty_cache()\n",
    "        # Verbose training\n",
    "        train_loss = train_loss / len(train_loader)\n",
    "        valid_loss = valid_loss / len(valid_loader)\n",
    "        if epoch == 1 or epoch % 10 == 0:\n",
    "            print('{} Epoch {}, Train {:.5f}, Valid {:.5f}'.format(dt.datetime.now(),\n",
    "                                                                      epoch,\n",
    "                                                                      train_loss,\n",
    "                                                                      valid_loss))\n",
    "        if valid_loss < best_valid_loss:\n",
    "            torch.save(model.state_dict(), DATAPATH + 'ssd.pt')\n",
    "            print(f'Saving {epoch}-th for {valid_loss = :2.5f}')\n",
    "            best_valid_loss = valid_loss\n",
    "            patience = max_patience\n",
    "        elif patience == 0:\n",
    "            return\n",
    "        else:\n",
    "            patience = patience - 1\n"
   ]
  },
  {
   "cell_type": "code",
   "execution_count": null,
   "metadata": {
    "pycharm": {
     "name": "#%%\n"
    }
   },
   "outputs": [],
   "source": [
    "import importlib\n",
    "import VGG16_theirs\n",
    "importlib.reload(VGG16_theirs)\n",
    "import SSD\n",
    "importlib.reload(SSD)\n",
    "import utils\n",
    "importlib.reload(utils)\n",
    "import SSDLoss\n",
    "importlib.reload(SSDLoss)\n",
    "from SSD import SSDmodel\n",
    "from SSDLoss import SSDLoss\n",
    "\n",
    "ssd = SSDmodel(class_num=len(categories)).to(device=DEVICE)\n",
    "adam = torch.optim.SGD(ssd.parameters(), lr=1e-3, weight_decay=0.0005, momentum=0.9)\n",
    "ssd_loss = SSDLoss(device=DEVICE)\n",
    "training_loop(n_epochs=160000,\n",
    "              optimizer=adam,\n",
    "              loss_fn=ssd_loss,\n",
    "              model=ssd,\n",
    "              train_loader=train_dataloader,\n",
    "              valid_loader=valid_dataloader)"
   ]
  },
  {
   "cell_type": "code",
   "execution_count": null,
   "metadata": {
    "pycharm": {
     "name": "#%%\n"
    }
   },
   "outputs": [],
   "source": [
    "import importlib\n",
    "import matplotlib.pyplot as plt\n",
    "import SSD\n",
    "importlib.reload(SSD)\n",
    "from SSD import SSDmodel\n",
    "from matplotlib import patches\n",
    "\n",
    "# Load best models\n",
    "ssd = SSDmodel(class_num=len(categories)).to(device=DEVICE)\n",
    "ssd.load_state_dict(torch.load(DATAPATH + 'ssdSmall.pt', map_location=DEVICE))\n",
    "plt.figure(figsize=(12, 60))\n",
    "for imgs, targets in valid_dataloader:\n",
    "    imgs = torch.cat(list(map(lambda x: x.unsqueeze(0), imgs))).to(device=DEVICE)\n",
    "    boxes = tuple(map(lambda x: torch.tensor(x['boxes']).to(device=DEVICE), targets))\n",
    "    labels = tuple(map(lambda x: torch.tensor(x['labels']).to(device=DEVICE), targets))\n",
    "    fig, ax = plt.subplots()\n",
    "    img = imgs[0]\n",
    "    target = targets[0]\n",
    "    ax.imshow(img.permute(1, 2, 0).cpu(), vmin=0, vmax=1)\n",
    "    \"\"\"\n",
    "    for idx, box in enumerate(target['boxes']):\n",
    "        width = box[2] * img.shape[2]\n",
    "        height = box[3] * img.shape[1]\n",
    "        x = box[0] * img.shape[2] - width/2\n",
    "        y = box[1] * img.shape[1] - height/2\n",
    "        print(f'{box * 300 = }')\n",
    "        rect = patches.Rectangle((x, y), width, height, linewidth=2, edgecolor=\"b\", fill=False)\n",
    "        ax.add_patch(rect)\n",
    "        ax.text(x=x, y=y, s=categories[np.argwhere(target['labels'][idx])[0][0]])\n",
    "        ax.text(x=x-15, y=y, s=\"GT\")\n",
    "    \"\"\"\n",
    "    with torch.no_grad():\n",
    "        offs, conf, labels = ssd.predict(imgs)\n",
    "    pred_img = offs[0].cpu()\n",
    "    pred_conf = conf[0].cpu()\n",
    "    pred_label = labels[0].cpu()\n",
    "    for idx, box in enumerate(pred_img):\n",
    "        if pred_conf[idx, 0] < 0.9:\n",
    "            continue\n",
    "        width = box[2] * img.shape[2]\n",
    "        height = box[3] * img.shape[1]\n",
    "        x = box[0] * img.shape[2] - width/2\n",
    "        y = box[1] * img.shape[1] - height/2\n",
    "        rect = patches.Rectangle((x, y), width, height, linewidth=2, edgecolor=\"r\", fill=False)\n",
    "        ax.add_patch(rect)\n",
    "        ax.text(x=x, y=y, s=categories[pred_label[idx, 0]])\n",
    "        ax.text(x=x+40, y=y, s=pred_conf[idx, 0].numpy())\n",
    "    plt.show()\n"
   ]
  },
  {
   "cell_type": "code",
   "execution_count": null,
   "metadata": {},
   "outputs": [],
   "source": []
  },
  {
   "cell_type": "code",
   "execution_count": null,
   "metadata": {},
   "outputs": [],
   "source": []
  }
 ],
 "metadata": {
  "kernelspec": {
   "display_name": "Python 3 (ipykernel)",
   "language": "python",
   "name": "python3"
  },
  "language_info": {
   "codemirror_mode": {
    "name": "ipython",
    "version": 3
   },
   "file_extension": ".py",
   "mimetype": "text/x-python",
   "name": "python",
   "nbconvert_exporter": "python",
   "pygments_lexer": "ipython3",
   "version": "3.10.5"
  }
 },
 "nbformat": 4,
 "nbformat_minor": 1
}
