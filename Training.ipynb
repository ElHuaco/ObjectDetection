{
 "cells": [
  {
   "cell_type": "code",
   "execution_count": null,
   "metadata": {
    "collapsed": true,
    "pycharm": {
     "name": "#%%\n"
    }
   },
   "outputs": [],
   "source": [
    "import torch\n",
    "import torch.nn as nn\n",
    "import torch.nn.functional as F\n",
    "import torchvision\n",
    "import numpy as np\n",
    "import datetime as dt\n",
    "from SSDLoss import SSDloss\n",
    "\n",
    "DATAPATH = './models/'\n",
    "# GPU training\n",
    "DEVICE = (torch.device('cuda') if torch.cuda.is_available() else torch.device('cpu'))\n",
    "print(f\"Training on device {DEVICE}.\")\n",
    "torch.cuda.memory_allocated()"
   ]
  },
  {
   "cell_type": "code",
   "execution_count": 1,
   "metadata": {
    "pycharm": {
     "name": "#%%\n"
    }
   },
   "outputs": [
    {
     "ename": "NameError",
     "evalue": "name 'nn' is not defined",
     "output_type": "error",
     "traceback": [
      "\u001B[0;31m---------------------------------------------------------------------------\u001B[0m",
      "\u001B[0;31mNameError\u001B[0m                                 Traceback (most recent call last)",
      "\u001B[0;32m/var/folders/2j/yj3x01td2lqbznzlbwcpz1pc0000gn/T/ipykernel_1818/1631536076.py\u001B[0m in \u001B[0;36m<module>\u001B[0;34m\u001B[0m\n\u001B[0;32m----> 1\u001B[0;31m \u001B[0;32mclass\u001B[0m \u001B[0mVGG\u001B[0m\u001B[0;34m(\u001B[0m\u001B[0mnn\u001B[0m\u001B[0;34m.\u001B[0m\u001B[0mModule\u001B[0m\u001B[0;34m)\u001B[0m\u001B[0;34m:\u001B[0m\u001B[0;34m\u001B[0m\u001B[0;34m\u001B[0m\u001B[0m\n\u001B[0m\u001B[1;32m      2\u001B[0m     \u001B[0;32mpass\u001B[0m\u001B[0;34m\u001B[0m\u001B[0;34m\u001B[0m\u001B[0m\n\u001B[1;32m      3\u001B[0m \u001B[0;34m\u001B[0m\u001B[0m\n\u001B[1;32m      4\u001B[0m \u001B[0;32mclass\u001B[0m \u001B[0mInception\u001B[0m\u001B[0;34m(\u001B[0m\u001B[0mnn\u001B[0m\u001B[0;34m.\u001B[0m\u001B[0mModule\u001B[0m\u001B[0;34m)\u001B[0m\u001B[0;34m:\u001B[0m\u001B[0;34m\u001B[0m\u001B[0;34m\u001B[0m\u001B[0m\n\u001B[1;32m      5\u001B[0m     \u001B[0;32mpass\u001B[0m\u001B[0;34m\u001B[0m\u001B[0;34m\u001B[0m\u001B[0m\n",
      "\u001B[0;31mNameError\u001B[0m: name 'nn' is not defined"
     ]
    }
   ],
   "source": [
    "def training_loop(n_epochs, optimizer, model, loss_fn, train_loader, valid_loader):\n",
    "    best_valid_loss = float('Inf')\n",
    "    print('{} starting training'.format(dt.datetime.now()))\n",
    "    for epoch in range(1, n_epochs + 1):\n",
    "        train_loss = 0.0\n",
    "        for images, targets in train_loader:\n",
    "            images = images.to(device=DEVICE)\n",
    "            offs, conf = model(images)\n",
    "            loss = loss_fn(offs, conf, targets['boxes'].to(device=DEVICE), targets['labels'].to(device=DEVICE))\n",
    "            optimizer.zero_grad()\n",
    "            loss.backward()\n",
    "            optimizer.step()\n",
    "            train_loss += loss.item()\n",
    "        torch.cuda.empty_cache()\n",
    "        # Validation\n",
    "        with torch.no_grad():\n",
    "            valid_loss = 0.0\n",
    "            for images, targets in train_loader:\n",
    "                images = images.to(device=DEVICE)\n",
    "                coords, conf = model(images)\n",
    "                loss = SSDloss(coords, conf, targets['boxes'].to(device=DEVICE), targets['labels'].to(device=DEVICE))\n",
    "                optimizer.zero_grad()\n",
    "                loss.backward()\n",
    "                optimizer.step()\n",
    "                valid_loss += loss.item()\n",
    "        torch.cuda.empty_cache()\n",
    "        # Verbose training\n",
    "        train_loss = train_loss / len(train_loader)\n",
    "        valid_loss = valid_loss / len(valid_loader)\n",
    "        if epoch == 1 or epoch % 10 == 0:\n",
    "            print('{} Epoch {}, Train {:.5f}, Valid {:.5f}'.format(dt.datetime.now(),\n",
    "                                                                      epoch,\n",
    "                                                                      train_loss,\n",
    "                                                                      valid_loss))\n",
    "        if valid_loss < best_valid_loss:\n",
    "            torch.save(model.state_dict(), DATAPATH + 'ssd.pt')\n",
    "            print(f'Saving {epoch}-th for {valid_loss = :2.5f}')\n",
    "            best_valid_loss = valid_loss\n"
   ]
  },
  {
   "cell_type": "code",
   "execution_count": null,
   "metadata": {
    "pycharm": {
     "name": "#%%\n"
    }
   },
   "outputs": [],
   "source": [
    "from cocoBox import load_coco_dataset\n",
    "\n",
    "BATCH_SIZE = 32\n",
    "IMG_SIZE = 300\n",
    "# Select image categories with which to train SSD\n",
    "categories = ('horse', 'bird', 'cat', 'dog', 'person', 'car')\n",
    "train_dataloader, valid_dataloader = load_coco_dataset(batch_size=BATCH_SIZE,\n",
    "                                                       size=10000,\n",
    "                                                       dim=IMG_SIZE,\n",
    "                                                       cats=categories,\n",
    "                                                       fetch_type='union')"
   ]
  },
  {
   "cell_type": "code",
   "execution_count": null,
   "metadata": {
    "pycharm": {
     "name": "#%%\n"
    }
   },
   "outputs": [],
   "source": [
    "from SSD import SSD\n",
    "from SSDLoss import SSDLoss\n",
    "\n",
    "ssd = SSD(class_num=len(categories)).to(device=DEVICE)\n",
    "adam = torch.optim.Adam(ssd.parameters(), lr=1e-3)\n",
    "training_loop(n_epochs=1000,\n",
    "              optimizer=adam,\n",
    "              loss_fn=SSDLoss().to(device=DEVICE),\n",
    "              model=ssd,\n",
    "              train_loader=train_dataloader,\n",
    "              valid_loader=valid_dataloader)"
   ]
  },
  {
   "cell_type": "code",
   "execution_count": null,
   "metadata": {
    "pycharm": {
     "name": "#%%\n"
    }
   },
   "outputs": [],
   "source": [
    "import matplotlib.pyplot as plt\n",
    "from matplotlib import patches\n",
    "# Load best models\n",
    "ssd.load_state_dict(torch.load(DATAPATH + 'ssd.pt', map_location=DEVICE))\n",
    "plt.figure(figsize=(12, 60))\n",
    "mean = (0.485, 0.456, 0.406)\n",
    "std = (0.229, 0.224, 0.225)\n",
    "mean = [-1 * x / y for x, y in zip(mean, std)]\n",
    "std = [1 / x for x in std]\n",
    "unnormalize = torchvision.transforms.Normalize(mean=mean, std=std)\n",
    "for imgs, targets in valid_dataloader:\n",
    "    if len(targets[0]['boxes']) < 2:\n",
    "        continue\n",
    "    fig, ax = plt.subplots()\n",
    "    img = imgs[0]\n",
    "    target = targets[0]\n",
    "    ax.imshow(unnormalize(img).permute(1, 2, 0), vmin=0, vmax=1)\n",
    "    # TODO: add labelling of rectangle box\n",
    "    for idx, box in enumerate(target['boxes']):\n",
    "        x = box[0] * img.shape[2]\n",
    "        y = box[1] * img.shape[1]\n",
    "        width = box[2] * img.shape[2]\n",
    "        height = box[3] * img.shape[1]\n",
    "        rect = patches.Rectangle((x, y), width, height, linewidth=2, edgecolor=\"b\", fill=False)\n",
    "        ax.add_patch(rect)\n",
    "        ax.text(x=x, y=y, s=categories[target['label'][idx]])\n",
    "    offs, conf = ssd.predict(imgs, targets)\n",
    "    # TODO: add labelling of rectangle box\n",
    "    for idx, box in enumerate(offs):\n",
    "        x = box[0] * img.shape[2]\n",
    "        y = box[1] * img.shape[1]\n",
    "        width = box[2] * img.shape[2]\n",
    "        height = box[3] * img.shape[1]\n",
    "        rect = patches.Rectangle((x, y), width, height, linewidth=2, edgecolor=\"r\", fill=False)\n",
    "        ax.add_patch(rect)\n",
    "        ax.text(x=x, y=y, s=categories[np.argmax(conf[idx])])\n",
    "    plt.show()"
   ]
  }
 ],
 "metadata": {
  "kernelspec": {
   "display_name": "Python 3 (ipykernel)",
   "language": "python",
   "name": "python3"
  },
  "language_info": {
   "codemirror_mode": {
    "name": "ipython",
    "version": 3
   },
   "file_extension": ".py",
   "mimetype": "text/x-python",
   "name": "python",
   "nbconvert_exporter": "python",
   "pygments_lexer": "ipython3",
   "version": "3.10.5"
  }
 },
 "nbformat": 4,
 "nbformat_minor": 1
}